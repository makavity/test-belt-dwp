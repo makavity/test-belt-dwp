{
 "cells": [
  {
   "cell_type": "code",
   "execution_count": 2,
   "metadata": {},
   "outputs": [
    {
     "data": {
      "text/plain": [
       "Finite Field of size 2"
      ]
     },
     "execution_count": 2,
     "metadata": {},
     "output_type": "execute_result"
    }
   ],
   "source": [
    "import sage.all as sg\n",
    "sg.GF(2)"
   ]
  },
  {
   "cell_type": "code",
   "execution_count": 17,
   "metadata": {},
   "outputs": [
    {
     "data": {
      "text/plain": [
       "'0x8677b6f90e79e7907e8aa67b8a5275f'"
      ]
     },
     "execution_count": 17,
     "metadata": {},
     "output_type": "execute_result"
    }
   ],
   "source": [
    "BF.<X> = GF(2)[]\n",
    "FF.<A> = GF(2 ^ 128, modulus=X ^ 128 + X ^ 7 + X ^ 2 + X + 1)\n",
    "\n",
    "\n",
    "def int2ele(integer):\n",
    "    res = 0\n",
    "    for i in range(128):\n",
    "        # rightmost bit is x127\n",
    "        res += (integer & 1) * (A ^ (127 - i))\n",
    "        integer >>= 1\n",
    "    return res\n",
    "\n",
    "\n",
    "def ele2int(element):\n",
    "    integer = element.integer_representation()\n",
    "    res = 0\n",
    "    for i in range(128):\n",
    "        res = (res << 1) + (integer & 1)\n",
    "        integer >>= 1\n",
    "    return res\n",
    "\n",
    "\n",
    "def gf_2_128_mul_correct(x1, x2):\n",
    "    return ele2int(int2ele(x1) * int2ele(x2))\n",
    "\n",
    "a = 0x3490405511BE32971343724C5AB793E9\n",
    "b = 0x224817838761A9D6E3EC9689110FB0F3\n",
    "# aa = \"703FCCF0 95EE8DF1 C1ABF8EE 8DF1C1AB\"\n",
    "# aba = bytearray.fromhex(aa)\n",
    "# ba = \"2055704E 2EDB48FE 87E74075 A5E77EB1\"\n",
    "# bba = bytearray.fromhex(ba)\n",
    "\n",
    "# a = int.from_bytes(aba, byteorder='little')\n",
    "# b = int.from_bytes(bba, byteorder='little')\n",
    "\n",
    "hex(gf_2_128_mul_correct(a, b))"
   ]
  },
  {
   "cell_type": "code",
   "execution_count": null,
   "metadata": {},
   "outputs": [],
   "source": []
  }
 ],
 "metadata": {
  "kernelspec": {
   "display_name": "SageMath 10.0",
   "language": "sage",
   "name": "sagemath-10.0"
  },
  "language_info": {
   "codemirror_mode": {
    "name": "ipython",
    "version": 3
   },
   "file_extension": ".py",
   "mimetype": "text/x-python",
   "name": "python",
   "nbconvert_exporter": "python",
   "pygments_lexer": "ipython3",
   "version": "3.11.1"
  }
 },
 "nbformat": 4,
 "nbformat_minor": 1
}
